{
  "nbformat": 4,
  "nbformat_minor": 0,
  "metadata": {
    "colab": {
      "name": "Board_Game_Review_Prediction.ipynb",
      "provenance": [],
      "collapsed_sections": [],
      "authorship_tag": "ABX9TyNW7eUcYwuH4E25k/ixNJG4",
      "include_colab_link": true
    },
    "kernelspec": {
      "name": "python3",
      "display_name": "Python 3"
    }
  },
  "cells": [
    {
      "cell_type": "markdown",
      "metadata": {
        "id": "view-in-github",
        "colab_type": "text"
      },
      "source": [
        "<a href=\"https://colab.research.google.com/github/rajat1911996sharma/Board-Game-Review-Predictions/blob/main/Board_Game_Review_Prediction.ipynb\" target=\"_parent\"><img src=\"https://colab.research.google.com/assets/colab-badge.svg\" alt=\"Open In Colab\"/></a>"
      ]
    },
    {
      "cell_type": "code",
      "metadata": {
        "id": "-VV9RZ5CUCut"
      },
      "source": [
        "import pandas as pd\n",
        "import numpy as np\n",
        "import matplotlib.pyplot as plt\n",
        "import seaborn as sns\n",
        "%matplotlib inline"
      ],
      "execution_count": 166,
      "outputs": []
    },
    {
      "cell_type": "code",
      "metadata": {
        "id": "d-TchdRrRE1L"
      },
      "source": [
        "games = pd.read_csv('games.csv')\n",
        " "
      ],
      "execution_count": 67,
      "outputs": []
    },
    {
      "cell_type": "code",
      "metadata": {
        "colab": {
          "base_uri": "https://localhost:8080/",
          "height": 350
        },
        "id": "uvRtb7vZRhLf",
        "outputId": "f754a4e2-af2d-48f8-9a28-58db0d9df729"
      },
      "source": [
        "games.head()"
      ],
      "execution_count": 68,
      "outputs": [
        {
          "output_type": "execute_result",
          "data": {
            "text/html": [
              "<div>\n",
              "<style scoped>\n",
              "    .dataframe tbody tr th:only-of-type {\n",
              "        vertical-align: middle;\n",
              "    }\n",
              "\n",
              "    .dataframe tbody tr th {\n",
              "        vertical-align: top;\n",
              "    }\n",
              "\n",
              "    .dataframe thead th {\n",
              "        text-align: right;\n",
              "    }\n",
              "</style>\n",
              "<table border=\"1\" class=\"dataframe\">\n",
              "  <thead>\n",
              "    <tr style=\"text-align: right;\">\n",
              "      <th></th>\n",
              "      <th>id</th>\n",
              "      <th>type</th>\n",
              "      <th>name</th>\n",
              "      <th>yearpublished</th>\n",
              "      <th>minplayers</th>\n",
              "      <th>maxplayers</th>\n",
              "      <th>playingtime</th>\n",
              "      <th>minplaytime</th>\n",
              "      <th>maxplaytime</th>\n",
              "      <th>minage</th>\n",
              "      <th>users_rated</th>\n",
              "      <th>average_rating</th>\n",
              "      <th>bayes_average_rating</th>\n",
              "      <th>total_owners</th>\n",
              "      <th>total_traders</th>\n",
              "      <th>total_wanters</th>\n",
              "      <th>total_wishers</th>\n",
              "      <th>total_comments</th>\n",
              "      <th>total_weights</th>\n",
              "      <th>average_weight</th>\n",
              "    </tr>\n",
              "  </thead>\n",
              "  <tbody>\n",
              "    <tr>\n",
              "      <th>0</th>\n",
              "      <td>12333</td>\n",
              "      <td>boardgame</td>\n",
              "      <td>Twilight Struggle</td>\n",
              "      <td>2005.0</td>\n",
              "      <td>2.0</td>\n",
              "      <td>2.0</td>\n",
              "      <td>180.0</td>\n",
              "      <td>180.0</td>\n",
              "      <td>180.0</td>\n",
              "      <td>13.0</td>\n",
              "      <td>20113</td>\n",
              "      <td>8.33774</td>\n",
              "      <td>8.22186</td>\n",
              "      <td>26647</td>\n",
              "      <td>372</td>\n",
              "      <td>1219</td>\n",
              "      <td>5865</td>\n",
              "      <td>5347</td>\n",
              "      <td>2562</td>\n",
              "      <td>3.4785</td>\n",
              "    </tr>\n",
              "    <tr>\n",
              "      <th>1</th>\n",
              "      <td>120677</td>\n",
              "      <td>boardgame</td>\n",
              "      <td>Terra Mystica</td>\n",
              "      <td>2012.0</td>\n",
              "      <td>2.0</td>\n",
              "      <td>5.0</td>\n",
              "      <td>150.0</td>\n",
              "      <td>60.0</td>\n",
              "      <td>150.0</td>\n",
              "      <td>12.0</td>\n",
              "      <td>14383</td>\n",
              "      <td>8.28798</td>\n",
              "      <td>8.14232</td>\n",
              "      <td>16519</td>\n",
              "      <td>132</td>\n",
              "      <td>1586</td>\n",
              "      <td>6277</td>\n",
              "      <td>2526</td>\n",
              "      <td>1423</td>\n",
              "      <td>3.8939</td>\n",
              "    </tr>\n",
              "    <tr>\n",
              "      <th>2</th>\n",
              "      <td>102794</td>\n",
              "      <td>boardgame</td>\n",
              "      <td>Caverna: The Cave Farmers</td>\n",
              "      <td>2013.0</td>\n",
              "      <td>1.0</td>\n",
              "      <td>7.0</td>\n",
              "      <td>210.0</td>\n",
              "      <td>30.0</td>\n",
              "      <td>210.0</td>\n",
              "      <td>12.0</td>\n",
              "      <td>9262</td>\n",
              "      <td>8.28994</td>\n",
              "      <td>8.06886</td>\n",
              "      <td>12230</td>\n",
              "      <td>99</td>\n",
              "      <td>1476</td>\n",
              "      <td>5600</td>\n",
              "      <td>1700</td>\n",
              "      <td>777</td>\n",
              "      <td>3.7761</td>\n",
              "    </tr>\n",
              "    <tr>\n",
              "      <th>3</th>\n",
              "      <td>25613</td>\n",
              "      <td>boardgame</td>\n",
              "      <td>Through the Ages: A Story of Civilization</td>\n",
              "      <td>2006.0</td>\n",
              "      <td>2.0</td>\n",
              "      <td>4.0</td>\n",
              "      <td>240.0</td>\n",
              "      <td>240.0</td>\n",
              "      <td>240.0</td>\n",
              "      <td>12.0</td>\n",
              "      <td>13294</td>\n",
              "      <td>8.20407</td>\n",
              "      <td>8.05804</td>\n",
              "      <td>14343</td>\n",
              "      <td>362</td>\n",
              "      <td>1084</td>\n",
              "      <td>5075</td>\n",
              "      <td>3378</td>\n",
              "      <td>1642</td>\n",
              "      <td>4.1590</td>\n",
              "    </tr>\n",
              "    <tr>\n",
              "      <th>4</th>\n",
              "      <td>3076</td>\n",
              "      <td>boardgame</td>\n",
              "      <td>Puerto Rico</td>\n",
              "      <td>2002.0</td>\n",
              "      <td>2.0</td>\n",
              "      <td>5.0</td>\n",
              "      <td>150.0</td>\n",
              "      <td>90.0</td>\n",
              "      <td>150.0</td>\n",
              "      <td>12.0</td>\n",
              "      <td>39883</td>\n",
              "      <td>8.14261</td>\n",
              "      <td>8.04524</td>\n",
              "      <td>44362</td>\n",
              "      <td>795</td>\n",
              "      <td>861</td>\n",
              "      <td>5414</td>\n",
              "      <td>9173</td>\n",
              "      <td>5213</td>\n",
              "      <td>3.2943</td>\n",
              "    </tr>\n",
              "  </tbody>\n",
              "</table>\n",
              "</div>"
            ],
            "text/plain": [
              "       id       type  ... total_weights  average_weight\n",
              "0   12333  boardgame  ...          2562          3.4785\n",
              "1  120677  boardgame  ...          1423          3.8939\n",
              "2  102794  boardgame  ...           777          3.7761\n",
              "3   25613  boardgame  ...          1642          4.1590\n",
              "4    3076  boardgame  ...          5213          3.2943\n",
              "\n",
              "[5 rows x 20 columns]"
            ]
          },
          "metadata": {
            "tags": []
          },
          "execution_count": 68
        }
      ]
    },
    {
      "cell_type": "code",
      "metadata": {
        "colab": {
          "base_uri": "https://localhost:8080/"
        },
        "id": "24ggh4CARjxi",
        "outputId": "b9b4fca9-49ee-49aa-e6a8-2872936b40ba"
      },
      "source": [
        "games.info"
      ],
      "execution_count": 69,
      "outputs": [
        {
          "output_type": "execute_result",
          "data": {
            "text/plain": [
              "<bound method DataFrame.info of            id                type  ... total_weights  average_weight\n",
              "0       12333           boardgame  ...          2562          3.4785\n",
              "1      120677           boardgame  ...          1423          3.8939\n",
              "2      102794           boardgame  ...           777          3.7761\n",
              "3       25613           boardgame  ...          1642          4.1590\n",
              "4        3076           boardgame  ...          5213          3.2943\n",
              "...       ...                 ...  ...           ...             ...\n",
              "81307  184441  boardgameexpansion  ...             0          0.0000\n",
              "81308  184442           boardgame  ...             0          0.0000\n",
              "81309  184443           boardgame  ...             0          0.0000\n",
              "81310  184449           boardgame  ...             0          0.0000\n",
              "81311  184451           boardgame  ...             0          0.0000\n",
              "\n",
              "[81312 rows x 20 columns]>"
            ]
          },
          "metadata": {
            "tags": []
          },
          "execution_count": 69
        }
      ]
    },
    {
      "cell_type": "code",
      "metadata": {
        "colab": {
          "base_uri": "https://localhost:8080/"
        },
        "id": "DOgSrpjNRmZZ",
        "outputId": "71cd75bc-73e5-4b02-a9f7-7dcb67e53259"
      },
      "source": [
        "games.describe"
      ],
      "execution_count": 70,
      "outputs": [
        {
          "output_type": "execute_result",
          "data": {
            "text/plain": [
              "<bound method NDFrame.describe of            id                type  ... total_weights  average_weight\n",
              "0       12333           boardgame  ...          2562          3.4785\n",
              "1      120677           boardgame  ...          1423          3.8939\n",
              "2      102794           boardgame  ...           777          3.7761\n",
              "3       25613           boardgame  ...          1642          4.1590\n",
              "4        3076           boardgame  ...          5213          3.2943\n",
              "...       ...                 ...  ...           ...             ...\n",
              "81307  184441  boardgameexpansion  ...             0          0.0000\n",
              "81308  184442           boardgame  ...             0          0.0000\n",
              "81309  184443           boardgame  ...             0          0.0000\n",
              "81310  184449           boardgame  ...             0          0.0000\n",
              "81311  184451           boardgame  ...             0          0.0000\n",
              "\n",
              "[81312 rows x 20 columns]>"
            ]
          },
          "metadata": {
            "tags": []
          },
          "execution_count": 70
        }
      ]
    },
    {
      "cell_type": "code",
      "metadata": {
        "colab": {
          "base_uri": "https://localhost:8080/"
        },
        "id": "ZBbOQeepRqxV",
        "outputId": "fdbc121d-95ea-4072-c4e4-7e398330512f"
      },
      "source": [
        "games.columns"
      ],
      "execution_count": 71,
      "outputs": [
        {
          "output_type": "execute_result",
          "data": {
            "text/plain": [
              "Index(['id', 'type', 'name', 'yearpublished', 'minplayers', 'maxplayers',\n",
              "       'playingtime', 'minplaytime', 'maxplaytime', 'minage', 'users_rated',\n",
              "       'average_rating', 'bayes_average_rating', 'total_owners',\n",
              "       'total_traders', 'total_wanters', 'total_wishers', 'total_comments',\n",
              "       'total_weights', 'average_weight'],\n",
              "      dtype='object')"
            ]
          },
          "metadata": {
            "tags": []
          },
          "execution_count": 71
        }
      ]
    },
    {
      "cell_type": "code",
      "metadata": {
        "colab": {
          "base_uri": "https://localhost:8080/"
        },
        "id": "twqkEu2bRysv",
        "outputId": "b4b1a0ab-139e-4783-8fcc-f36ec9479c17"
      },
      "source": [
        "games.isna().count()"
      ],
      "execution_count": 72,
      "outputs": [
        {
          "output_type": "execute_result",
          "data": {
            "text/plain": [
              "id                      81312\n",
              "type                    81312\n",
              "name                    81312\n",
              "yearpublished           81312\n",
              "minplayers              81312\n",
              "maxplayers              81312\n",
              "playingtime             81312\n",
              "minplaytime             81312\n",
              "maxplaytime             81312\n",
              "minage                  81312\n",
              "users_rated             81312\n",
              "average_rating          81312\n",
              "bayes_average_rating    81312\n",
              "total_owners            81312\n",
              "total_traders           81312\n",
              "total_wanters           81312\n",
              "total_wishers           81312\n",
              "total_comments          81312\n",
              "total_weights           81312\n",
              "average_weight          81312\n",
              "dtype: int64"
            ]
          },
          "metadata": {
            "tags": []
          },
          "execution_count": 72
        }
      ]
    },
    {
      "cell_type": "markdown",
      "metadata": {
        "id": "C0yIxaXASU5n"
      },
      "source": [
        "We can see that our dataset has no na values"
      ]
    },
    {
      "cell_type": "code",
      "metadata": {
        "id": "7pX05sA4SJhk"
      },
      "source": [
        "#we will try to predict average rating of the game"
      ],
      "execution_count": 73,
      "outputs": []
    },
    {
      "cell_type": "markdown",
      "metadata": {
        "id": "PE5WH0SWUG_U"
      },
      "source": [
        "Exploratory Data Analysis"
      ]
    },
    {
      "cell_type": "code",
      "metadata": {
        "colab": {
          "base_uri": "https://localhost:8080/",
          "height": 332
        },
        "id": "rcT_wnsMTH0_",
        "outputId": "ab4d2f62-7e1d-40c9-9cc6-c4444d776e84"
      },
      "source": [
        "plt.hist(games['average_rating'])"
      ],
      "execution_count": 74,
      "outputs": [
        {
          "output_type": "execute_result",
          "data": {
            "text/plain": [
              "(array([24380.,   606.,  1325.,  3303.,  6687., 12277., 15849., 11737.,\n",
              "         3860.,  1288.]),\n",
              " array([ 0.,  1.,  2.,  3.,  4.,  5.,  6.,  7.,  8.,  9., 10.]),\n",
              " <a list of 10 Patch objects>)"
            ]
          },
          "metadata": {
            "tags": []
          },
          "execution_count": 74
        },
        {
          "output_type": "display_data",
          "data": {
            "image/png": "[encoded data removed]",
            "text/plain": [
              "<Figure size 432x288 with 1 Axes>"
            ]
          },
          "metadata": {
            "tags": [],
            "needs_background": "light"
          }
        }
      ]
    },
    {
      "cell_type": "markdown",
      "metadata": {
        "id": "aUCQuVByTQjw"
      },
      "source": [
        "We have 24380 games with average rating of 0. "
      ]
    },
    {
      "cell_type": "code",
      "metadata": {
        "colab": {
          "base_uri": "https://localhost:8080/"
        },
        "id": "AdINuvcPTMGR",
        "outputId": "56a97b2f-da49-4d5f-8e04-9dbdec57b575"
      },
      "source": [
        "games['average_rating']==0"
      ],
      "execution_count": 75,
      "outputs": [
        {
          "output_type": "execute_result",
          "data": {
            "text/plain": [
              "0        False\n",
              "1        False\n",
              "2        False\n",
              "3        False\n",
              "4        False\n",
              "         ...  \n",
              "81307     True\n",
              "81308     True\n",
              "81309     True\n",
              "81310     True\n",
              "81311     True\n",
              "Name: average_rating, Length: 81312, dtype: bool"
            ]
          },
          "metadata": {
            "tags": []
          },
          "execution_count": 75
        }
      ]
    },
    {
      "cell_type": "code",
      "metadata": {
        "colab": {
          "base_uri": "https://localhost:8080/"
        },
        "id": "Av8EXhPdTrja",
        "outputId": "fa2f4961-47bf-4ea1-d0ca-338a109bd0e4"
      },
      "source": [
        "games[games['average_rating']==0].iloc[0]"
      ],
      "execution_count": 76,
      "outputs": [
        {
          "output_type": "execute_result",
          "data": {
            "text/plain": [
              "id                             318\n",
              "type                     boardgame\n",
              "name                    Looney Leo\n",
              "yearpublished                    0\n",
              "minplayers                       0\n",
              "maxplayers                       0\n",
              "playingtime                      0\n",
              "minplaytime                      0\n",
              "maxplaytime                      0\n",
              "minage                           0\n",
              "users_rated                      0\n",
              "average_rating                   0\n",
              "bayes_average_rating             0\n",
              "total_owners                     0\n",
              "total_traders                    0\n",
              "total_wanters                    0\n",
              "total_wishers                    1\n",
              "total_comments                   0\n",
              "total_weights                    0\n",
              "average_weight                   0\n",
              "Name: 13048, dtype: object"
            ]
          },
          "metadata": {
            "tags": []
          },
          "execution_count": 76
        }
      ]
    },
    {
      "cell_type": "markdown",
      "metadata": {
        "id": "LWt3Xk5FUdCg"
      },
      "source": [
        "We will remove any rows that dont have user ratings"
      ]
    },
    {
      "cell_type": "code",
      "metadata": {
        "colab": {
          "base_uri": "https://localhost:8080/"
        },
        "id": "4IDM-IgSe05b",
        "outputId": "cf99c53c-3a4f-410b-99e4-d983d1e964de"
      },
      "source": [
        "games['users_rated'] > 0"
      ],
      "execution_count": 77,
      "outputs": [
        {
          "output_type": "execute_result",
          "data": {
            "text/plain": [
              "0         True\n",
              "1         True\n",
              "2         True\n",
              "3         True\n",
              "4         True\n",
              "         ...  \n",
              "81307    False\n",
              "81308    False\n",
              "81309    False\n",
              "81310    False\n",
              "81311    False\n",
              "Name: users_rated, Length: 81312, dtype: bool"
            ]
          },
          "metadata": {
            "tags": []
          },
          "execution_count": 77
        }
      ]
    },
    {
      "cell_type": "code",
      "metadata": {
        "id": "C0DrzQA4TzZJ"
      },
      "source": [
        "games = games[games['users_rated'] > 0]"
      ],
      "execution_count": 78,
      "outputs": []
    },
    {
      "cell_type": "code",
      "metadata": {
        "colab": {
          "base_uri": "https://localhost:8080/",
          "height": 350
        },
        "id": "Ewj7umX4U5QI",
        "outputId": "187c5a38-9de7-43b3-cfbd-2bd17f663ec6"
      },
      "source": [
        "games.head()"
      ],
      "execution_count": 79,
      "outputs": [
        {
          "output_type": "execute_result",
          "data": {
            "text/html": [
              "<div>\n",
              "<style scoped>\n",
              "    .dataframe tbody tr th:only-of-type {\n",
              "        vertical-align: middle;\n",
              "    }\n",
              "\n",
              "    .dataframe tbody tr th {\n",
              "        vertical-align: top;\n",
              "    }\n",
              "\n",
              "    .dataframe thead th {\n",
              "        text-align: right;\n",
              "    }\n",
              "</style>\n",
              "<table border=\"1\" class=\"dataframe\">\n",
              "  <thead>\n",
              "    <tr style=\"text-align: right;\">\n",
              "      <th></th>\n",
              "      <th>id</th>\n",
              "      <th>type</th>\n",
              "      <th>name</th>\n",
              "      <th>yearpublished</th>\n",
              "      <th>minplayers</th>\n",
              "      <th>maxplayers</th>\n",
              "      <th>playingtime</th>\n",
              "      <th>minplaytime</th>\n",
              "      <th>maxplaytime</th>\n",
              "      <th>minage</th>\n",
              "      <th>users_rated</th>\n",
              "      <th>average_rating</th>\n",
              "      <th>bayes_average_rating</th>\n",
              "      <th>total_owners</th>\n",
              "      <th>total_traders</th>\n",
              "      <th>total_wanters</th>\n",
              "      <th>total_wishers</th>\n",
              "      <th>total_comments</th>\n",
              "      <th>total_weights</th>\n",
              "      <th>average_weight</th>\n",
              "    </tr>\n",
              "  </thead>\n",
              "  <tbody>\n",
              "    <tr>\n",
              "      <th>0</th>\n",
              "      <td>12333</td>\n",
              "      <td>boardgame</td>\n",
              "      <td>Twilight Struggle</td>\n",
              "      <td>2005.0</td>\n",
              "      <td>2.0</td>\n",
              "      <td>2.0</td>\n",
              "      <td>180.0</td>\n",
              "      <td>180.0</td>\n",
              "      <td>180.0</td>\n",
              "      <td>13.0</td>\n",
              "      <td>20113</td>\n",
              "      <td>8.33774</td>\n",
              "      <td>8.22186</td>\n",
              "      <td>26647</td>\n",
              "      <td>372</td>\n",
              "      <td>1219</td>\n",
              "      <td>5865</td>\n",
              "      <td>5347</td>\n",
              "      <td>2562</td>\n",
              "      <td>3.4785</td>\n",
              "    </tr>\n",
              "    <tr>\n",
              "      <th>1</th>\n",
              "      <td>120677</td>\n",
              "      <td>boardgame</td>\n",
              "      <td>Terra Mystica</td>\n",
              "      <td>2012.0</td>\n",
              "      <td>2.0</td>\n",
              "      <td>5.0</td>\n",
              "      <td>150.0</td>\n",
              "      <td>60.0</td>\n",
              "      <td>150.0</td>\n",
              "      <td>12.0</td>\n",
              "      <td>14383</td>\n",
              "      <td>8.28798</td>\n",
              "      <td>8.14232</td>\n",
              "      <td>16519</td>\n",
              "      <td>132</td>\n",
              "      <td>1586</td>\n",
              "      <td>6277</td>\n",
              "      <td>2526</td>\n",
              "      <td>1423</td>\n",
              "      <td>3.8939</td>\n",
              "    </tr>\n",
              "    <tr>\n",
              "      <th>2</th>\n",
              "      <td>102794</td>\n",
              "      <td>boardgame</td>\n",
              "      <td>Caverna: The Cave Farmers</td>\n",
              "      <td>2013.0</td>\n",
              "      <td>1.0</td>\n",
              "      <td>7.0</td>\n",
              "      <td>210.0</td>\n",
              "      <td>30.0</td>\n",
              "      <td>210.0</td>\n",
              "      <td>12.0</td>\n",
              "      <td>9262</td>\n",
              "      <td>8.28994</td>\n",
              "      <td>8.06886</td>\n",
              "      <td>12230</td>\n",
              "      <td>99</td>\n",
              "      <td>1476</td>\n",
              "      <td>5600</td>\n",
              "      <td>1700</td>\n",
              "      <td>777</td>\n",
              "      <td>3.7761</td>\n",
              "    </tr>\n",
              "    <tr>\n",
              "      <th>3</th>\n",
              "      <td>25613</td>\n",
              "      <td>boardgame</td>\n",
              "      <td>Through the Ages: A Story of Civilization</td>\n",
              "      <td>2006.0</td>\n",
              "      <td>2.0</td>\n",
              "      <td>4.0</td>\n",
              "      <td>240.0</td>\n",
              "      <td>240.0</td>\n",
              "      <td>240.0</td>\n",
              "      <td>12.0</td>\n",
              "      <td>13294</td>\n",
              "      <td>8.20407</td>\n",
              "      <td>8.05804</td>\n",
              "      <td>14343</td>\n",
              "      <td>362</td>\n",
              "      <td>1084</td>\n",
              "      <td>5075</td>\n",
              "      <td>3378</td>\n",
              "      <td>1642</td>\n",
              "      <td>4.1590</td>\n",
              "    </tr>\n",
              "    <tr>\n",
              "      <th>4</th>\n",
              "      <td>3076</td>\n",
              "      <td>boardgame</td>\n",
              "      <td>Puerto Rico</td>\n",
              "      <td>2002.0</td>\n",
              "      <td>2.0</td>\n",
              "      <td>5.0</td>\n",
              "      <td>150.0</td>\n",
              "      <td>90.0</td>\n",
              "      <td>150.0</td>\n",
              "      <td>12.0</td>\n",
              "      <td>39883</td>\n",
              "      <td>8.14261</td>\n",
              "      <td>8.04524</td>\n",
              "      <td>44362</td>\n",
              "      <td>795</td>\n",
              "      <td>861</td>\n",
              "      <td>5414</td>\n",
              "      <td>9173</td>\n",
              "      <td>5213</td>\n",
              "      <td>3.2943</td>\n",
              "    </tr>\n",
              "  </tbody>\n",
              "</table>\n",
              "</div>"
            ],
            "text/plain": [
              "       id       type  ... total_weights  average_weight\n",
              "0   12333  boardgame  ...          2562          3.4785\n",
              "1  120677  boardgame  ...          1423          3.8939\n",
              "2  102794  boardgame  ...           777          3.7761\n",
              "3   25613  boardgame  ...          1642          4.1590\n",
              "4    3076  boardgame  ...          5213          3.2943\n",
              "\n",
              "[5 rows x 20 columns]"
            ]
          },
          "metadata": {
            "tags": []
          },
          "execution_count": 79
        }
      ]
    },
    {
      "cell_type": "code",
      "metadata": {
        "colab": {
          "base_uri": "https://localhost:8080/"
        },
        "id": "dkMOaLlWU6t5",
        "outputId": "691a5abe-219c-42bf-c6fe-7d1d3c504c7e"
      },
      "source": [
        "games.info()"
      ],
      "execution_count": 80,
      "outputs": [
        {
          "output_type": "stream",
          "text": [
            "<class 'pandas.core.frame.DataFrame'>\n",
            "Int64Index: 56932 entries, 0 to 81279\n",
            "Data columns (total 20 columns):\n",
            " #   Column                Non-Null Count  Dtype  \n",
            "---  ------                --------------  -----  \n",
            " 0   id                    56932 non-null  int64  \n",
            " 1   type                  56932 non-null  object \n",
            " 2   name                  56896 non-null  object \n",
            " 3   yearpublished         56930 non-null  float64\n",
            " 4   minplayers            56930 non-null  float64\n",
            " 5   maxplayers            56930 non-null  float64\n",
            " 6   playingtime           56930 non-null  float64\n",
            " 7   minplaytime           56930 non-null  float64\n",
            " 8   maxplaytime           56930 non-null  float64\n",
            " 9   minage                56930 non-null  float64\n",
            " 10  users_rated           56932 non-null  int64  \n",
            " 11  average_rating        56932 non-null  float64\n",
            " 12  bayes_average_rating  56932 non-null  float64\n",
            " 13  total_owners          56932 non-null  int64  \n",
            " 14  total_traders         56932 non-null  int64  \n",
            " 15  total_wanters         56932 non-null  int64  \n",
            " 16  total_wishers         56932 non-null  int64  \n",
            " 17  total_comments        56932 non-null  int64  \n",
            " 18  total_weights         56932 non-null  int64  \n",
            " 19  average_weight        56932 non-null  float64\n",
            "dtypes: float64(10), int64(8), object(2)\n",
            "memory usage: 9.1+ MB\n"
          ],
          "name": "stdout"
        }
      ]
    },
    {
      "cell_type": "markdown",
      "metadata": {
        "id": "L5WizYVTVG4h"
      },
      "source": [
        "Now, we will remove any rows with na values"
      ]
    },
    {
      "cell_type": "code",
      "metadata": {
        "id": "DhKWrVA7U9nC"
      },
      "source": [
        "games = games.dropna(axis=0)"
      ],
      "execution_count": 81,
      "outputs": []
    },
    {
      "cell_type": "code",
      "metadata": {
        "colab": {
          "base_uri": "https://localhost:8080/"
        },
        "id": "SKmAyEAZVRUM",
        "outputId": "c63dff25-0ad3-48f0-a32e-ba89fde6815f"
      },
      "source": [
        "games.info()"
      ],
      "execution_count": 82,
      "outputs": [
        {
          "output_type": "stream",
          "text": [
            "<class 'pandas.core.frame.DataFrame'>\n",
            "Int64Index: 56894 entries, 0 to 81279\n",
            "Data columns (total 20 columns):\n",
            " #   Column                Non-Null Count  Dtype  \n",
            "---  ------                --------------  -----  \n",
            " 0   id                    56894 non-null  int64  \n",
            " 1   type                  56894 non-null  object \n",
            " 2   name                  56894 non-null  object \n",
            " 3   yearpublished         56894 non-null  float64\n",
            " 4   minplayers            56894 non-null  float64\n",
            " 5   maxplayers            56894 non-null  float64\n",
            " 6   playingtime           56894 non-null  float64\n",
            " 7   minplaytime           56894 non-null  float64\n",
            " 8   maxplaytime           56894 non-null  float64\n",
            " 9   minage                56894 non-null  float64\n",
            " 10  users_rated           56894 non-null  int64  \n",
            " 11  average_rating        56894 non-null  float64\n",
            " 12  bayes_average_rating  56894 non-null  float64\n",
            " 13  total_owners          56894 non-null  int64  \n",
            " 14  total_traders         56894 non-null  int64  \n",
            " 15  total_wanters         56894 non-null  int64  \n",
            " 16  total_wishers         56894 non-null  int64  \n",
            " 17  total_comments        56894 non-null  int64  \n",
            " 18  total_weights         56894 non-null  int64  \n",
            " 19  average_weight        56894 non-null  float64\n",
            "dtypes: float64(10), int64(8), object(2)\n",
            "memory usage: 9.1+ MB\n"
          ],
          "name": "stdout"
        }
      ]
    },
    {
      "cell_type": "code",
      "metadata": {
        "colab": {
          "base_uri": "https://localhost:8080/"
        },
        "id": "hRg_v45LfT6Y",
        "outputId": "893634c4-8e99-43b8-b552-47ca03f91d3b"
      },
      "source": [
        "games.isnull().value_counts().sum()"
      ],
      "execution_count": 85,
      "outputs": [
        {
          "output_type": "execute_result",
          "data": {
            "text/plain": [
              "56894"
            ]
          },
          "metadata": {
            "tags": []
          },
          "execution_count": 85
        }
      ]
    },
    {
      "cell_type": "code",
      "metadata": {
        "colab": {
          "base_uri": "https://localhost:8080/",
          "height": 332
        },
        "id": "BLGQFvDYVT64",
        "outputId": "053c6c70-15af-4fdb-c7ba-a9261dff6567"
      },
      "source": [
        "plt.hist(games['average_rating'])"
      ],
      "execution_count": 86,
      "outputs": [
        {
          "output_type": "execute_result",
          "data": {
            "text/plain": [
              "(array([  602.,  1231.,  2824.,  5206.,  8223., 13593., 13849.,  8470.,\n",
              "         2224.,   672.]),\n",
              " array([ 1. ,  1.9,  2.8,  3.7,  4.6,  5.5,  6.4,  7.3,  8.2,  9.1, 10. ]),\n",
              " <a list of 10 Patch objects>)"
            ]
          },
          "metadata": {
            "tags": []
          },
          "execution_count": 86
        },
        {
          "output_type": "display_data",
          "data": {
            "image/png": "[encoded data removed]",
            "text/plain": [
              "<Figure size 432x288 with 1 Axes>"
            ]
          },
          "metadata": {
            "tags": [],
            "needs_background": "light"
          }
        }
      ]
    },
    {
      "cell_type": "markdown",
      "metadata": {
        "id": "67aQrOBUVewm"
      },
      "source": [
        "The graph is much improved this way.\n",
        "Shape changed"
      ]
    },
    {
      "cell_type": "code",
      "metadata": {
        "colab": {
          "base_uri": "https://localhost:8080/"
        },
        "id": "jyUv3G8jVc5_",
        "outputId": "06af3d24-87a9-4df7-8cbf-3a4af1301a79"
      },
      "source": [
        "games.columns"
      ],
      "execution_count": 87,
      "outputs": [
        {
          "output_type": "execute_result",
          "data": {
            "text/plain": [
              "Index(['id', 'type', 'name', 'yearpublished', 'minplayers', 'maxplayers',\n",
              "       'playingtime', 'minplaytime', 'maxplaytime', 'minage', 'users_rated',\n",
              "       'average_rating', 'bayes_average_rating', 'total_owners',\n",
              "       'total_traders', 'total_wanters', 'total_wishers', 'total_comments',\n",
              "       'total_weights', 'average_weight'],\n",
              "      dtype='object')"
            ]
          },
          "metadata": {
            "tags": []
          },
          "execution_count": 87
        }
      ]
    },
    {
      "cell_type": "code",
      "metadata": {
        "colab": {
          "base_uri": "https://localhost:8080/",
          "height": 582
        },
        "id": "uerO4ZdlVqHd",
        "outputId": "6f5b114e-5c99-4122-8f1c-14854e9c45d2"
      },
      "source": [
        "plt.figure(figsize=(13,10))\n",
        "sns.heatmap(games.corr(),annot=True)"
      ],
      "execution_count": 88,
      "outputs": [
        {
          "output_type": "execute_result",
          "data": {
            "text/plain": [
              "<matplotlib.axes._subplots.AxesSubplot at 0x7f401f678c88>"
            ]
          },
          "metadata": {
            "tags": []
          },
          "execution_count": 88
        },
        {
          "output_type": "display_data",
          "data": {
            "image/png": "[encoded data removed]",
            "text/plain": [
              "<Figure size 936x720 with 2 Axes>"
            ]
          },
          "metadata": {
            "tags": [],
            "needs_background": "light"
          }
        }
      ]
    },
    {
      "cell_type": "markdown",
      "metadata": {
        "id": "fBTe3Y3hW-IO"
      },
      "source": [
        "Data Preprocessing"
      ]
    },
    {
      "cell_type": "code",
      "metadata": {
        "colab": {
          "base_uri": "https://localhost:8080/"
        },
        "id": "A4XQlR5MWBmn",
        "outputId": "90993e68-6bf0-473e-cde4-cea2348d49d6"
      },
      "source": [
        "games.columns"
      ],
      "execution_count": 89,
      "outputs": [
        {
          "output_type": "execute_result",
          "data": {
            "text/plain": [
              "Index(['id', 'type', 'name', 'yearpublished', 'minplayers', 'maxplayers',\n",
              "       'playingtime', 'minplaytime', 'maxplaytime', 'minage', 'users_rated',\n",
              "       'average_rating', 'bayes_average_rating', 'total_owners',\n",
              "       'total_traders', 'total_wanters', 'total_wishers', 'total_comments',\n",
              "       'total_weights', 'average_weight'],\n",
              "      dtype='object')"
            ]
          },
          "metadata": {
            "tags": []
          },
          "execution_count": 89
        }
      ]
    },
    {
      "cell_type": "code",
      "metadata": {
        "colab": {
          "base_uri": "https://localhost:8080/"
        },
        "id": "0aYGh0bxgDE7",
        "outputId": "1b9921e9-5f21-4266-d901-050386cbba06"
      },
      "source": [
        "games.info()"
      ],
      "execution_count": 90,
      "outputs": [
        {
          "output_type": "stream",
          "text": [
            "<class 'pandas.core.frame.DataFrame'>\n",
            "Int64Index: 56894 entries, 0 to 81279\n",
            "Data columns (total 20 columns):\n",
            " #   Column                Non-Null Count  Dtype  \n",
            "---  ------                --------------  -----  \n",
            " 0   id                    56894 non-null  int64  \n",
            " 1   type                  56894 non-null  object \n",
            " 2   name                  56894 non-null  object \n",
            " 3   yearpublished         56894 non-null  float64\n",
            " 4   minplayers            56894 non-null  float64\n",
            " 5   maxplayers            56894 non-null  float64\n",
            " 6   playingtime           56894 non-null  float64\n",
            " 7   minplaytime           56894 non-null  float64\n",
            " 8   maxplaytime           56894 non-null  float64\n",
            " 9   minage                56894 non-null  float64\n",
            " 10  users_rated           56894 non-null  int64  \n",
            " 11  average_rating        56894 non-null  float64\n",
            " 12  bayes_average_rating  56894 non-null  float64\n",
            " 13  total_owners          56894 non-null  int64  \n",
            " 14  total_traders         56894 non-null  int64  \n",
            " 15  total_wanters         56894 non-null  int64  \n",
            " 16  total_wishers         56894 non-null  int64  \n",
            " 17  total_comments        56894 non-null  int64  \n",
            " 18  total_weights         56894 non-null  int64  \n",
            " 19  average_weight        56894 non-null  float64\n",
            "dtypes: float64(10), int64(8), object(2)\n",
            "memory usage: 9.1+ MB\n"
          ],
          "name": "stdout"
        }
      ]
    },
    {
      "cell_type": "code",
      "metadata": {
        "id": "_Cb09G79dDHS"
      },
      "source": [
        "games.drop(games[['id','type','name','bayes_average_rating']],axis=1,inplace=True)"
      ],
      "execution_count": 91,
      "outputs": []
    },
    {
      "cell_type": "code",
      "metadata": {
        "colab": {
          "base_uri": "https://localhost:8080/"
        },
        "id": "CAiH5fAZdVlQ",
        "outputId": "9ac7c0c7-d23c-44ba-8d06-25e76efbfbd4"
      },
      "source": [
        "games.columns"
      ],
      "execution_count": 92,
      "outputs": [
        {
          "output_type": "execute_result",
          "data": {
            "text/plain": [
              "Index(['yearpublished', 'minplayers', 'maxplayers', 'playingtime',\n",
              "       'minplaytime', 'maxplaytime', 'minage', 'users_rated', 'average_rating',\n",
              "       'total_owners', 'total_traders', 'total_wanters', 'total_wishers',\n",
              "       'total_comments', 'total_weights', 'average_weight'],\n",
              "      dtype='object')"
            ]
          },
          "metadata": {
            "tags": []
          },
          "execution_count": 92
        }
      ]
    },
    {
      "cell_type": "code",
      "metadata": {
        "colab": {
          "base_uri": "https://localhost:8080/"
        },
        "id": "2xOAHsoPgwKy",
        "outputId": "792e89a9-8477-4c05-c460-2e74cae0c6c4"
      },
      "source": [
        "games.select_dtypes(['object']).columns"
      ],
      "execution_count": 94,
      "outputs": [
        {
          "output_type": "execute_result",
          "data": {
            "text/plain": [
              "Index([], dtype='object')"
            ]
          },
          "metadata": {
            "tags": []
          },
          "execution_count": 94
        }
      ]
    },
    {
      "cell_type": "code",
      "metadata": {
        "colab": {
          "base_uri": "https://localhost:8080/"
        },
        "id": "SWHFBtCQd_XQ",
        "outputId": "565d032f-c495-4bc5-f747-d2c13f26db45"
      },
      "source": [
        "games.columns.value_counts().sum()"
      ],
      "execution_count": 95,
      "outputs": [
        {
          "output_type": "execute_result",
          "data": {
            "text/plain": [
              "16"
            ]
          },
          "metadata": {
            "tags": []
          },
          "execution_count": 95
        }
      ]
    },
    {
      "cell_type": "code",
      "metadata": {
        "id": "PPpS3QF-ZBRY"
      },
      "source": [
        "X = games.drop('average_rating',axis=1)\n",
        "y = games['average_rating']"
      ],
      "execution_count": 145,
      "outputs": []
    },
    {
      "cell_type": "code",
      "metadata": {
        "id": "7tzDADIAZtqV"
      },
      "source": [
        "from sklearn.model_selection import train_test_split"
      ],
      "execution_count": 146,
      "outputs": []
    },
    {
      "cell_type": "code",
      "metadata": {
        "id": "iDl9JM3-Z0mW"
      },
      "source": [
        "X_train,X_test,y_train,y_test = train_test_split(X,y,random_state=101,test_size=0.3)"
      ],
      "execution_count": 147,
      "outputs": []
    },
    {
      "cell_type": "code",
      "metadata": {
        "colab": {
          "base_uri": "https://localhost:8080/"
        },
        "id": "StEmKvXYaBb9",
        "outputId": "452461a4-d4f5-4ef3-9ee4-3d6c85d7924f"
      },
      "source": [
        "X_train.shape"
      ],
      "execution_count": 99,
      "outputs": [
        {
          "output_type": "execute_result",
          "data": {
            "text/plain": [
              "(39825, 15)"
            ]
          },
          "metadata": {
            "tags": []
          },
          "execution_count": 99
        }
      ]
    },
    {
      "cell_type": "code",
      "metadata": {
        "colab": {
          "base_uri": "https://localhost:8080/"
        },
        "id": "nyCy3fOTaLFb",
        "outputId": "3fa286ce-5d59-4a4c-dd9d-5d0607556569"
      },
      "source": [
        "X_test.shape"
      ],
      "execution_count": 100,
      "outputs": [
        {
          "output_type": "execute_result",
          "data": {
            "text/plain": [
              "(17069, 15)"
            ]
          },
          "metadata": {
            "tags": []
          },
          "execution_count": 100
        }
      ]
    },
    {
      "cell_type": "code",
      "metadata": {
        "id": "uACACPwJaOQl"
      },
      "source": [
        "from sklearn.linear_model import LinearRegression"
      ],
      "execution_count": 101,
      "outputs": []
    },
    {
      "cell_type": "code",
      "metadata": {
        "colab": {
          "base_uri": "https://localhost:8080/"
        },
        "id": "XbHbNS3SaoEH",
        "outputId": "8768e81c-e287-4e67-d156-e9cff13fc29e"
      },
      "source": [
        "lr = LinearRegression()\n",
        "lr.fit(X_train,y_train)"
      ],
      "execution_count": 102,
      "outputs": [
        {
          "output_type": "execute_result",
          "data": {
            "text/plain": [
              "LinearRegression(copy_X=True, fit_intercept=True, n_jobs=None, normalize=False)"
            ]
          },
          "metadata": {
            "tags": []
          },
          "execution_count": 102
        }
      ]
    },
    {
      "cell_type": "code",
      "metadata": {
        "id": "2CA0ruTQayZn"
      },
      "source": [
        "pred = lr.predict(X_test)"
      ],
      "execution_count": 103,
      "outputs": []
    },
    {
      "cell_type": "code",
      "metadata": {
        "id": "Ez9rE7AJa7fY"
      },
      "source": [
        "from sklearn.metrics import mean_squared_error, r2_score"
      ],
      "execution_count": 202,
      "outputs": []
    },
    {
      "cell_type": "code",
      "metadata": {
        "colab": {
          "base_uri": "https://localhost:8080/"
        },
        "id": "UC8zsiCgi5YC",
        "outputId": "4e1ada53-979d-4189-c1ff-ea9f7ac79a6c"
      },
      "source": [
        "print(pred)"
      ],
      "execution_count": 107,
      "outputs": [
        {
          "output_type": "stream",
          "text": [
            "[5.55545878 5.97215511 5.55059787 ... 5.09848785 6.00678589 6.34785114]\n"
          ],
          "name": "stdout"
        }
      ]
    },
    {
      "cell_type": "code",
      "metadata": {
        "colab": {
          "base_uri": "https://localhost:8080/"
        },
        "id": "urGx9qw2jIgB",
        "outputId": "22099032-273d-48cd-fe0a-3188269cd127"
      },
      "source": [
        "print(y_test)"
      ],
      "execution_count": 110,
      "outputs": [
        {
          "output_type": "stream",
          "text": [
            "23994    6.00000\n",
            "21708    7.33333\n",
            "79322    4.00000\n",
            "721      6.97824\n",
            "23369    4.60000\n",
            "          ...   \n",
            "56832    4.00000\n",
            "46844    7.62500\n",
            "70242    7.00000\n",
            "12551    4.94345\n",
            "53749    8.00000\n",
            "Name: average_rating, Length: 17069, dtype: float64\n"
          ],
          "name": "stdout"
        }
      ]
    },
    {
      "cell_type": "code",
      "metadata": {
        "colab": {
          "base_uri": "https://localhost:8080/"
        },
        "id": "cz8fbZnRbE7X",
        "outputId": "0ebdb665-0137-4d3a-d8e4-a1bba40122b0"
      },
      "source": [
        "print(mean_squared_error(y_test,pred))\n"
      ],
      "execution_count": 111,
      "outputs": [
        {
          "output_type": "stream",
          "text": [
            "2.1124224124579145\n"
          ],
          "name": "stdout"
        }
      ]
    },
    {
      "cell_type": "markdown",
      "metadata": {
        "id": "vvlQXTcylZ2R"
      },
      "source": [
        "There was no strong correlation so the mean squared error value is ok.\n",
        "The lower the value the better"
      ]
    },
    {
      "cell_type": "code",
      "metadata": {
        "id": "9waoYcjQlY4g"
      },
      "source": [
        "from sklearn.ensemble import RandomForestRegressor"
      ],
      "execution_count": 114,
      "outputs": []
    },
    {
      "cell_type": "code",
      "metadata": {
        "colab": {
          "base_uri": "https://localhost:8080/"
        },
        "id": "Jh2omoUAbVPB",
        "outputId": "6a01dc6e-c995-4c29-f116-d7ed277ef768"
      },
      "source": [
        "rfr = RandomForestRegressor()\n",
        "rfr.fit(X_train,y_train)"
      ],
      "execution_count": 115,
      "outputs": [
        {
          "output_type": "execute_result",
          "data": {
            "text/plain": [
              "RandomForestRegressor(bootstrap=True, ccp_alpha=0.0, criterion='mse',\n",
              "                      max_depth=None, max_features='auto', max_leaf_nodes=None,\n",
              "                      max_samples=None, min_impurity_decrease=0.0,\n",
              "                      min_impurity_split=None, min_samples_leaf=1,\n",
              "                      min_samples_split=2, min_weight_fraction_leaf=0.0,\n",
              "                      n_estimators=100, n_jobs=None, oob_score=False,\n",
              "                      random_state=None, verbose=0, warm_start=False)"
            ]
          },
          "metadata": {
            "tags": []
          },
          "execution_count": 115
        }
      ]
    },
    {
      "cell_type": "code",
      "metadata": {
        "id": "nPRMWpQ6m70f"
      },
      "source": [
        "rfr_pred = rfr.predict(X_test)"
      ],
      "execution_count": 116,
      "outputs": []
    },
    {
      "cell_type": "code",
      "metadata": {
        "colab": {
          "base_uri": "https://localhost:8080/"
        },
        "id": "589fHFh4nVeB",
        "outputId": "21585dc2-d8ed-4914-98f0-aff1eb0bc820"
      },
      "source": [
        "print(mean_squared_error(y_test,rfr_pred))"
      ],
      "execution_count": 117,
      "outputs": [
        {
          "output_type": "stream",
          "text": [
            "1.5071055301591192\n"
          ],
          "name": "stdout"
        }
      ]
    },
    {
      "cell_type": "code",
      "metadata": {
        "id": "wcIzgUzkneGS"
      },
      "source": [
        "#lesser value \n",
        "#better results"
      ],
      "execution_count": 118,
      "outputs": []
    },
    {
      "cell_type": "markdown",
      "metadata": {
        "id": "mbV16dv9n1Ml"
      },
      "source": [
        "Lets see how the value holds"
      ]
    },
    {
      "cell_type": "code",
      "metadata": {
        "colab": {
          "base_uri": "https://localhost:8080/"
        },
        "id": "AAPpK3HXnju3",
        "outputId": "e6816b72-1c6e-43e8-f684-fb1e1a75b9d2"
      },
      "source": [
        "X_test.iloc[0]"
      ],
      "execution_count": 120,
      "outputs": [
        {
          "output_type": "execute_result",
          "data": {
            "text/plain": [
              "yearpublished     0.0\n",
              "minplayers        1.0\n",
              "maxplayers        5.0\n",
              "playingtime       0.0\n",
              "minplaytime       0.0\n",
              "maxplaytime       0.0\n",
              "minage            0.0\n",
              "users_rated       1.0\n",
              "total_owners      6.0\n",
              "total_traders     0.0\n",
              "total_wanters     0.0\n",
              "total_wishers     0.0\n",
              "total_comments    1.0\n",
              "total_weights     2.0\n",
              "average_weight    1.5\n",
              "Name: 23994, dtype: float64"
            ]
          },
          "metadata": {
            "tags": []
          },
          "execution_count": 120
        }
      ]
    },
    {
      "cell_type": "code",
      "metadata": {
        "id": "UBr3pbVdoHHQ"
      },
      "source": [
        "rating_lr = lr.predict(X_test.iloc[0].values.reshape(1,-1))\n",
        "rating_rfr = rfr.predict(X_test.iloc[0].values.reshape(1,-1))\n"
      ],
      "execution_count": 121,
      "outputs": []
    },
    {
      "cell_type": "code",
      "metadata": {
        "colab": {
          "base_uri": "https://localhost:8080/"
        },
        "id": "seJHaMFeotD9",
        "outputId": "c006b799-d8ba-4297-b58a-4d89856a383d"
      },
      "source": [
        "print(rating_lr)\n",
        "print(rating_rfr)"
      ],
      "execution_count": 122,
      "outputs": [
        {
          "output_type": "stream",
          "text": [
            "[5.55545878]\n",
            "[5.5825988]\n"
          ],
          "name": "stdout"
        }
      ]
    },
    {
      "cell_type": "code",
      "metadata": {
        "colab": {
          "base_uri": "https://localhost:8080/"
        },
        "id": "zhSqPtbpo3FA",
        "outputId": "9d1f398f-c694-447d-a2d8-0a5e2952ecf1"
      },
      "source": [
        "y_test.iloc[0]"
      ],
      "execution_count": 124,
      "outputs": [
        {
          "output_type": "execute_result",
          "data": {
            "text/plain": [
              "6.0"
            ]
          },
          "metadata": {
            "tags": []
          },
          "execution_count": 124
        }
      ]
    },
    {
      "cell_type": "markdown",
      "metadata": {
        "id": "S4yTxqv4pPT_"
      },
      "source": [
        "The random forest is more accurate than linear regression"
      ]
    },
    {
      "cell_type": "markdown",
      "metadata": {
        "id": "HLq8EPLkpj0E"
      },
      "source": [
        "Predictions seem to be off by 0.5 which is not really good"
      ]
    },
    {
      "cell_type": "code",
      "metadata": {
        "id": "wE2Lggh11ABM"
      },
      "source": [
        "X = games.drop('average_rating',axis=1).values\n",
        "y = games['average_rating'].values"
      ],
      "execution_count": 182,
      "outputs": []
    },
    {
      "cell_type": "code",
      "metadata": {
        "id": "iZHiEADopOJ2"
      },
      "source": [
        "from sklearn.preprocessing import MinMaxScaler"
      ],
      "execution_count": 183,
      "outputs": []
    },
    {
      "cell_type": "code",
      "metadata": {
        "id": "IqS6M6E5pA3M"
      },
      "source": [
        "scaler = MinMaxScaler()"
      ],
      "execution_count": 184,
      "outputs": []
    },
    {
      "cell_type": "code",
      "metadata": {
        "id": "I8YY6t83qxlL"
      },
      "source": [
        "X_train = scaler.fit_transform(X_train)\n",
        "X_test = scaler.transform(X_test)"
      ],
      "execution_count": 185,
      "outputs": []
    },
    {
      "cell_type": "code",
      "metadata": {
        "id": "qBEqGlAUq7jD"
      },
      "source": [
        "from tensorflow.keras.models import Sequential\n",
        "from tensorflow.keras.layers import Dense,Dropout\n",
        "from tensorflow.keras.callbacks import EarlyStopping"
      ],
      "execution_count": 186,
      "outputs": []
    },
    {
      "cell_type": "code",
      "metadata": {
        "id": "hQZKKF9arz2B"
      },
      "source": [
        "model = Sequential()"
      ],
      "execution_count": 187,
      "outputs": []
    },
    {
      "cell_type": "code",
      "metadata": {
        "colab": {
          "base_uri": "https://localhost:8080/"
        },
        "id": "BcCBg-KKr-x7",
        "outputId": "856733b9-fecb-41e1-aaba-bb30078c5c9b"
      },
      "source": [
        "X_train.shape"
      ],
      "execution_count": 188,
      "outputs": [
        {
          "output_type": "execute_result",
          "data": {
            "text/plain": [
              "(39825, 15)"
            ]
          },
          "metadata": {
            "tags": []
          },
          "execution_count": 188
        }
      ]
    },
    {
      "cell_type": "code",
      "metadata": {
        "id": "xlE417Zdr4Tf"
      },
      "source": [
        "model.add(Dense(15,activation='relu'))\n",
        "model.add(Dropout(0.2))\n",
        "model.add(Dense(8,activation='relu'))\n",
        "model.add(Dropout(0.2))\n",
        "model.add(Dense(1))"
      ],
      "execution_count": 204,
      "outputs": []
    },
    {
      "cell_type": "code",
      "metadata": {
        "id": "Duwq12Uqsjac"
      },
      "source": [
        "model.compile(loss='mse',optimizer='adam')"
      ],
      "execution_count": 205,
      "outputs": []
    },
    {
      "cell_type": "code",
      "metadata": {
        "id": "Yl4fRUvLtK0r"
      },
      "source": [
        "early_stop = EarlyStopping(monitor='val_loss',mode='min',patience=25)"
      ],
      "execution_count": 206,
      "outputs": []
    },
    {
      "cell_type": "code",
      "metadata": {
        "colab": {
          "base_uri": "https://localhost:8080/"
        },
        "id": "-_MEWd-Wsq7v",
        "outputId": "ff1fee9a-d063-4a33-9e3a-889253bbed45"
      },
      "source": [
        "model.fit(x=X_train,y=y_train,\n",
        "          validation_data=(X_test,y_test),\n",
        "          batch_size=256,epochs=400,\n",
        "          verbose=1,\n",
        "          callbacks=[early_stop])"
      ],
      "execution_count": 207,
      "outputs": [
        {
          "output_type": "stream",
          "text": [
            "Epoch 1/400\n",
            "156/156 [==============================] - 0s 2ms/step - loss: 20.4757 - val_loss: 3.5517\n",
            "Epoch 2/400\n",
            "156/156 [==============================] - 0s 2ms/step - loss: 8.9702 - val_loss: 3.0114\n",
            "Epoch 3/400\n",
            "156/156 [==============================] - 0s 2ms/step - loss: 7.0475 - val_loss: 3.1852\n",
            "Epoch 4/400\n",
            "156/156 [==============================] - 0s 2ms/step - loss: 6.2571 - val_loss: 3.2055\n",
            "Epoch 5/400\n",
            "156/156 [==============================] - 0s 2ms/step - loss: 6.0297 - val_loss: 3.0895\n",
            "Epoch 6/400\n",
            "156/156 [==============================] - 0s 2ms/step - loss: 5.3240 - val_loss: 3.6047\n",
            "Epoch 7/400\n",
            "156/156 [==============================] - 0s 2ms/step - loss: 4.8432 - val_loss: 3.4290\n",
            "Epoch 8/400\n",
            "156/156 [==============================] - 0s 2ms/step - loss: 4.7331 - val_loss: 3.0160\n",
            "Epoch 9/400\n",
            "156/156 [==============================] - 0s 2ms/step - loss: 4.6352 - val_loss: 3.3652\n",
            "Epoch 10/400\n",
            "156/156 [==============================] - 0s 2ms/step - loss: 4.5563 - val_loss: 3.0550\n",
            "Epoch 11/400\n",
            "156/156 [==============================] - 0s 2ms/step - loss: 4.1579 - val_loss: 3.3902\n",
            "Epoch 12/400\n",
            "156/156 [==============================] - 0s 2ms/step - loss: 3.9781 - val_loss: 3.0516\n",
            "Epoch 13/400\n",
            "156/156 [==============================] - 0s 2ms/step - loss: 3.9403 - val_loss: 3.1965\n",
            "Epoch 14/400\n",
            "156/156 [==============================] - 0s 2ms/step - loss: 3.8624 - val_loss: 3.3773\n",
            "Epoch 15/400\n",
            "156/156 [==============================] - 0s 2ms/step - loss: 3.7918 - val_loss: 3.0328\n",
            "Epoch 16/400\n",
            "156/156 [==============================] - 0s 2ms/step - loss: 3.7081 - val_loss: 2.8221\n",
            "Epoch 17/400\n",
            "156/156 [==============================] - 0s 2ms/step - loss: 3.6372 - val_loss: 2.8494\n",
            "Epoch 18/400\n",
            "156/156 [==============================] - 0s 2ms/step - loss: 3.5193 - val_loss: 2.6527\n",
            "Epoch 19/400\n",
            "156/156 [==============================] - 0s 2ms/step - loss: 3.4529 - val_loss: 2.8186\n",
            "Epoch 20/400\n",
            "156/156 [==============================] - 0s 2ms/step - loss: 3.3916 - val_loss: 2.5987\n",
            "Epoch 21/400\n",
            "156/156 [==============================] - 0s 2ms/step - loss: 3.3658 - val_loss: 2.5525\n",
            "Epoch 22/400\n",
            "156/156 [==============================] - 0s 2ms/step - loss: 3.2565 - val_loss: 2.4517\n",
            "Epoch 23/400\n",
            "156/156 [==============================] - 0s 2ms/step - loss: 3.2489 - val_loss: 2.6040\n",
            "Epoch 24/400\n",
            "156/156 [==============================] - 0s 2ms/step - loss: 3.1779 - val_loss: 2.4257\n",
            "Epoch 25/400\n",
            "156/156 [==============================] - 0s 2ms/step - loss: 3.1147 - val_loss: 2.4555\n",
            "Epoch 26/400\n",
            "156/156 [==============================] - 0s 2ms/step - loss: 3.0344 - val_loss: 2.3372\n",
            "Epoch 27/400\n",
            "156/156 [==============================] - 0s 2ms/step - loss: 2.9795 - val_loss: 2.3602\n",
            "Epoch 28/400\n",
            "156/156 [==============================] - 0s 2ms/step - loss: 2.9186 - val_loss: 2.3693\n",
            "Epoch 29/400\n",
            "156/156 [==============================] - 0s 2ms/step - loss: 2.8700 - val_loss: 2.3012\n",
            "Epoch 30/400\n",
            "156/156 [==============================] - 0s 2ms/step - loss: 2.8152 - val_loss: 2.1219\n",
            "Epoch 31/400\n",
            "156/156 [==============================] - 0s 2ms/step - loss: 2.7825 - val_loss: 2.0778\n",
            "Epoch 32/400\n",
            "156/156 [==============================] - 0s 2ms/step - loss: 2.7090 - val_loss: 2.1004\n",
            "Epoch 33/400\n",
            "156/156 [==============================] - 0s 2ms/step - loss: 2.6558 - val_loss: 2.1947\n",
            "Epoch 34/400\n",
            "156/156 [==============================] - 0s 2ms/step - loss: 2.5965 - val_loss: 2.0109\n",
            "Epoch 35/400\n",
            "156/156 [==============================] - 0s 2ms/step - loss: 2.5554 - val_loss: 2.1349\n",
            "Epoch 36/400\n",
            "156/156 [==============================] - 0s 2ms/step - loss: 2.5405 - val_loss: 2.0779\n",
            "Epoch 37/400\n",
            "156/156 [==============================] - 0s 2ms/step - loss: 2.4591 - val_loss: 2.0929\n",
            "Epoch 38/400\n",
            "156/156 [==============================] - 0s 2ms/step - loss: 2.4559 - val_loss: 1.9704\n",
            "Epoch 39/400\n",
            "156/156 [==============================] - 0s 2ms/step - loss: 2.4115 - val_loss: 1.9877\n",
            "Epoch 40/400\n",
            "156/156 [==============================] - 0s 2ms/step - loss: 2.3632 - val_loss: 1.9937\n",
            "Epoch 41/400\n",
            "156/156 [==============================] - 0s 2ms/step - loss: 2.3396 - val_loss: 1.9596\n",
            "Epoch 42/400\n",
            "156/156 [==============================] - 0s 2ms/step - loss: 2.2922 - val_loss: 1.9718\n",
            "Epoch 43/400\n",
            "156/156 [==============================] - 0s 2ms/step - loss: 2.2912 - val_loss: 1.9518\n",
            "Epoch 44/400\n",
            "156/156 [==============================] - 0s 2ms/step - loss: 2.2597 - val_loss: 1.9376\n",
            "Epoch 45/400\n",
            "156/156 [==============================] - 0s 2ms/step - loss: 2.2431 - val_loss: 1.9907\n",
            "Epoch 46/400\n",
            "156/156 [==============================] - 0s 2ms/step - loss: 2.1955 - val_loss: 1.9414\n",
            "Epoch 47/400\n",
            "156/156 [==============================] - 0s 2ms/step - loss: 2.1833 - val_loss: 1.9210\n",
            "Epoch 48/400\n",
            "156/156 [==============================] - 0s 2ms/step - loss: 2.1661 - val_loss: 1.9616\n",
            "Epoch 49/400\n",
            "156/156 [==============================] - 0s 2ms/step - loss: 2.1593 - val_loss: 1.9419\n",
            "Epoch 50/400\n",
            "156/156 [==============================] - 0s 2ms/step - loss: 2.1319 - val_loss: 1.9539\n",
            "Epoch 51/400\n",
            "156/156 [==============================] - 0s 2ms/step - loss: 2.0993 - val_loss: 1.9164\n",
            "Epoch 52/400\n",
            "156/156 [==============================] - 0s 2ms/step - loss: 2.0973 - val_loss: 1.8820\n",
            "Epoch 53/400\n",
            "156/156 [==============================] - 0s 2ms/step - loss: 2.0886 - val_loss: 1.9136\n",
            "Epoch 54/400\n",
            "156/156 [==============================] - 0s 2ms/step - loss: 2.0720 - val_loss: 1.9333\n",
            "Epoch 55/400\n",
            "156/156 [==============================] - 0s 2ms/step - loss: 2.0553 - val_loss: 1.9059\n",
            "Epoch 56/400\n",
            "156/156 [==============================] - 0s 2ms/step - loss: 2.0457 - val_loss: 1.9751\n",
            "Epoch 57/400\n",
            "156/156 [==============================] - 0s 2ms/step - loss: 2.0353 - val_loss: 1.9102\n",
            "Epoch 58/400\n",
            "156/156 [==============================] - 0s 2ms/step - loss: 2.0331 - val_loss: 1.8907\n",
            "Epoch 59/400\n",
            "156/156 [==============================] - 0s 2ms/step - loss: 2.0113 - val_loss: 1.9420\n",
            "Epoch 60/400\n",
            "156/156 [==============================] - 0s 2ms/step - loss: 2.0163 - val_loss: 1.9404\n",
            "Epoch 61/400\n",
            "156/156 [==============================] - 0s 2ms/step - loss: 2.0092 - val_loss: 1.9078\n",
            "Epoch 62/400\n",
            "156/156 [==============================] - 0s 2ms/step - loss: 1.9838 - val_loss: 1.8909\n",
            "Epoch 63/400\n",
            "156/156 [==============================] - 0s 2ms/step - loss: 1.9833 - val_loss: 1.8862\n",
            "Epoch 64/400\n",
            "156/156 [==============================] - 0s 2ms/step - loss: 1.9813 - val_loss: 1.9509\n",
            "Epoch 65/400\n",
            "156/156 [==============================] - 0s 2ms/step - loss: 1.9853 - val_loss: 1.8991\n",
            "Epoch 66/400\n",
            "156/156 [==============================] - 0s 2ms/step - loss: 1.9769 - val_loss: 1.8976\n",
            "Epoch 67/400\n",
            "156/156 [==============================] - 0s 2ms/step - loss: 1.9809 - val_loss: 1.8840\n",
            "Epoch 68/400\n",
            "156/156 [==============================] - 0s 2ms/step - loss: 1.9775 - val_loss: 1.9098\n",
            "Epoch 69/400\n",
            "156/156 [==============================] - 0s 2ms/step - loss: 1.9652 - val_loss: 1.9073\n",
            "Epoch 70/400\n",
            "156/156 [==============================] - 0s 2ms/step - loss: 1.9604 - val_loss: 1.9266\n",
            "Epoch 71/400\n",
            "156/156 [==============================] - 0s 2ms/step - loss: 1.9615 - val_loss: 1.8654\n",
            "Epoch 72/400\n",
            "156/156 [==============================] - 0s 2ms/step - loss: 1.9575 - val_loss: 1.8786\n",
            "Epoch 73/400\n",
            "156/156 [==============================] - 0s 2ms/step - loss: 1.9630 - val_loss: 1.9180\n",
            "Epoch 74/400\n",
            "156/156 [==============================] - 0s 2ms/step - loss: 1.9559 - val_loss: 1.8873\n",
            "Epoch 75/400\n",
            "156/156 [==============================] - 0s 2ms/step - loss: 1.9508 - val_loss: 1.9033\n",
            "Epoch 76/400\n",
            "156/156 [==============================] - 0s 2ms/step - loss: 1.9499 - val_loss: 1.9078\n",
            "Epoch 77/400\n",
            "156/156 [==============================] - 0s 2ms/step - loss: 1.9581 - val_loss: 1.8868\n",
            "Epoch 78/400\n",
            "156/156 [==============================] - 0s 2ms/step - loss: 1.9482 - val_loss: 1.8789\n",
            "Epoch 79/400\n",
            "156/156 [==============================] - 0s 2ms/step - loss: 1.9526 - val_loss: 1.8875\n",
            "Epoch 80/400\n",
            "156/156 [==============================] - 0s 2ms/step - loss: 1.9517 - val_loss: 1.9233\n",
            "Epoch 81/400\n",
            "156/156 [==============================] - 0s 2ms/step - loss: 1.9498 - val_loss: 1.9147\n",
            "Epoch 82/400\n",
            "156/156 [==============================] - 0s 2ms/step - loss: 1.9555 - val_loss: 1.9114\n",
            "Epoch 83/400\n",
            "156/156 [==============================] - 0s 2ms/step - loss: 1.9561 - val_loss: 1.8725\n",
            "Epoch 84/400\n",
            "156/156 [==============================] - 0s 2ms/step - loss: 1.9477 - val_loss: 1.8945\n",
            "Epoch 85/400\n",
            "156/156 [==============================] - 0s 2ms/step - loss: 1.9533 - val_loss: 1.9762\n",
            "Epoch 86/400\n",
            "156/156 [==============================] - 0s 2ms/step - loss: 1.9544 - val_loss: 1.9029\n",
            "Epoch 87/400\n",
            "156/156 [==============================] - 0s 2ms/step - loss: 1.9516 - val_loss: 1.8947\n",
            "Epoch 88/400\n",
            "156/156 [==============================] - 0s 2ms/step - loss: 1.9437 - val_loss: 1.8884\n",
            "Epoch 89/400\n",
            "156/156 [==============================] - 0s 2ms/step - loss: 1.9571 - val_loss: 1.8767\n",
            "Epoch 90/400\n",
            "156/156 [==============================] - 0s 2ms/step - loss: 1.9368 - val_loss: 1.8795\n",
            "Epoch 91/400\n",
            "156/156 [==============================] - 0s 2ms/step - loss: 1.9471 - val_loss: 1.8964\n",
            "Epoch 92/400\n",
            "156/156 [==============================] - 0s 2ms/step - loss: 1.9414 - val_loss: 1.8998\n",
            "Epoch 93/400\n",
            "156/156 [==============================] - 0s 2ms/step - loss: 1.9365 - val_loss: 1.8806\n",
            "Epoch 94/400\n",
            "156/156 [==============================] - 0s 2ms/step - loss: 1.9378 - val_loss: 1.9356\n",
            "Epoch 95/400\n",
            "156/156 [==============================] - 0s 2ms/step - loss: 1.9517 - val_loss: 1.9133\n",
            "Epoch 96/400\n",
            "156/156 [==============================] - 0s 2ms/step - loss: 1.9454 - val_loss: 1.8831\n"
          ],
          "name": "stdout"
        },
        {
          "output_type": "execute_result",
          "data": {
            "text/plain": [
              "<tensorflow.python.keras.callbacks.History at 0x7f3fe7370860>"
            ]
          },
          "metadata": {
            "tags": []
          },
          "execution_count": 207
        }
      ]
    },
    {
      "cell_type": "code",
      "metadata": {
        "colab": {
          "base_uri": "https://localhost:8080/",
          "height": 282
        },
        "id": "aG1jGzXQtbR0",
        "outputId": "dd203776-7864-443a-9f01-2a7fc544862d"
      },
      "source": [
        "losses = pd.DataFrame(model.history.history)\n",
        "losses.plot()"
      ],
      "execution_count": 208,
      "outputs": [
        {
          "output_type": "execute_result",
          "data": {
            "text/plain": [
              "<matplotlib.axes._subplots.AxesSubplot at 0x7f3fe1edf2e8>"
            ]
          },
          "metadata": {
            "tags": []
          },
          "execution_count": 208
        },
        {
          "output_type": "display_data",
          "data": {
            "image/png": "[encoded data removed]",
            "text/plain": [
              "<Figure size 432x288 with 1 Axes>"
            ]
          },
          "metadata": {
            "tags": [],
            "needs_background": "light"
          }
        }
      ]
    },
    {
      "cell_type": "code",
      "metadata": {
        "colab": {
          "base_uri": "https://localhost:8080/"
        },
        "id": "x-n1gW8Vt5Lm",
        "outputId": "2f26d0af-af8c-4a50-a5ae-024065402c0e"
      },
      "source": [
        "nn_pred = model.predict(X_test)\n",
        "nn_pred"
      ],
      "execution_count": 209,
      "outputs": [
        {
          "output_type": "execute_result",
          "data": {
            "text/plain": [
              "array([[5.361347 ],\n",
              "       [6.1302757],\n",
              "       [5.7161965],\n",
              "       ...,\n",
              "       [5.3438735],\n",
              "       [5.3438735],\n",
              "       [5.933979 ]], dtype=float32)"
            ]
          },
          "metadata": {
            "tags": []
          },
          "execution_count": 209
        }
      ]
    },
    {
      "cell_type": "code",
      "metadata": {
        "colab": {
          "base_uri": "https://localhost:8080/"
        },
        "id": "vR_ARjHUwfWe",
        "outputId": "0ac73bf6-03f2-4ebb-acca-a882d5f19914"
      },
      "source": [
        "nn_pred.shape"
      ],
      "execution_count": 210,
      "outputs": [
        {
          "output_type": "execute_result",
          "data": {
            "text/plain": [
              "(17069, 1)"
            ]
          },
          "metadata": {
            "tags": []
          },
          "execution_count": 210
        }
      ]
    },
    {
      "cell_type": "code",
      "metadata": {
        "colab": {
          "base_uri": "https://localhost:8080/"
        },
        "id": "7SaPjHdcyj4w",
        "outputId": "60b3b3c2-edbb-427e-da86-b9e7454eca19"
      },
      "source": [
        "type(nn_pred)"
      ],
      "execution_count": 211,
      "outputs": [
        {
          "output_type": "execute_result",
          "data": {
            "text/plain": [
              "numpy.ndarray"
            ]
          },
          "metadata": {
            "tags": []
          },
          "execution_count": 211
        }
      ]
    },
    {
      "cell_type": "code",
      "metadata": {
        "colab": {
          "base_uri": "https://localhost:8080/"
        },
        "id": "-28_VMhjytqK",
        "outputId": "2fc0ebde-4180-44d4-efe5-b8d0e8a6fbbb"
      },
      "source": [
        "type(y_test)"
      ],
      "execution_count": 212,
      "outputs": [
        {
          "output_type": "execute_result",
          "data": {
            "text/plain": [
              "pandas.core.series.Series"
            ]
          },
          "metadata": {
            "tags": []
          },
          "execution_count": 212
        }
      ]
    },
    {
      "cell_type": "code",
      "metadata": {
        "colab": {
          "base_uri": "https://localhost:8080/"
        },
        "id": "Tw1REPmiwi6j",
        "outputId": "33e76fe6-bd90-4adf-9416-c5100b37d6bb"
      },
      "source": [
        "y_test.shape"
      ],
      "execution_count": 213,
      "outputs": [
        {
          "output_type": "execute_result",
          "data": {
            "text/plain": [
              "(17069,)"
            ]
          },
          "metadata": {
            "tags": []
          },
          "execution_count": 213
        }
      ]
    },
    {
      "cell_type": "code",
      "metadata": {
        "colab": {
          "base_uri": "https://localhost:8080/"
        },
        "id": "Tg1DgPlwudg9",
        "outputId": "fab9349c-a8f4-4ff6-d1c7-19b7b7bd8291"
      },
      "source": [
        "y_test "
      ],
      "execution_count": 214,
      "outputs": [
        {
          "output_type": "execute_result",
          "data": {
            "text/plain": [
              "23994    6.00000\n",
              "21708    7.33333\n",
              "79322    4.00000\n",
              "721      6.97824\n",
              "23369    4.60000\n",
              "          ...   \n",
              "56832    4.00000\n",
              "46844    7.62500\n",
              "70242    7.00000\n",
              "12551    4.94345\n",
              "53749    8.00000\n",
              "Name: average_rating, Length: 17069, dtype: float64"
            ]
          },
          "metadata": {
            "tags": []
          },
          "execution_count": 214
        }
      ]
    },
    {
      "cell_type": "code",
      "metadata": {
        "colab": {
          "base_uri": "https://localhost:8080/"
        },
        "id": "6tkCmyqnuLNT",
        "outputId": "d5476e44-1012-49f2-959f-377658f4000d"
      },
      "source": [
        "mean_squared_error(y_test,nn_pred)"
      ],
      "execution_count": 216,
      "outputs": [
        {
          "output_type": "execute_result",
          "data": {
            "text/plain": [
              "1.883148337347595"
            ]
          },
          "metadata": {
            "tags": []
          },
          "execution_count": 216
        }
      ]
    },
    {
      "cell_type": "code",
      "metadata": {
        "colab": {
          "base_uri": "https://localhost:8080/"
        },
        "id": "gb_wxSAi2NZC",
        "outputId": "549e07aa-c278-4196-8682-603f7f933109"
      },
      "source": [
        "rating_nn = model.predict(X_test[0].reshape(1,-1))\n",
        "print(rating_nn)"
      ],
      "execution_count": 219,
      "outputs": [
        {
          "output_type": "stream",
          "text": [
            "[[5.361347]]\n"
          ],
          "name": "stdout"
        }
      ]
    },
    {
      "cell_type": "code",
      "metadata": {
        "colab": {
          "base_uri": "https://localhost:8080/"
        },
        "id": "DgOcJd0z4R1p",
        "outputId": "a2be5c7c-40d4-453f-d30b-6f0d8b7aa366"
      },
      "source": [
        "y_test.iloc[0]"
      ],
      "execution_count": 221,
      "outputs": [
        {
          "output_type": "execute_result",
          "data": {
            "text/plain": [
              "6.0"
            ]
          },
          "metadata": {
            "tags": []
          },
          "execution_count": 221
        }
      ]
    },
    {
      "cell_type": "markdown",
      "metadata": {
        "id": "G86O9SSY4rcD"
      },
      "source": [
        "Surprisingly, the random forest regressor and linear regression give better result than the neural network regression"
      ]
    },
    {
      "cell_type": "markdown",
      "metadata": {
        "id": "-Lk20fw544Xa"
      },
      "source": [
        "Best result is still Random Forest Regressor"
      ]
    },
    {
      "cell_type": "code",
      "metadata": {
        "id": "9RHTWPb24qeN"
      },
      "source": [
        ""
      ],
      "execution_count": null,
      "outputs": []
    },
    {
      "cell_type": "code",
      "metadata": {
        "id": "8Cj2vyo14gi1"
      },
      "source": [
        ""
      ],
      "execution_count": null,
      "outputs": []
    }
  ]
}